{
 "cells": [
  {
   "cell_type": "code",
   "execution_count": 1,
   "id": "ca625a61-1bf7-4723-9ac5-d74f2fde6567",
   "metadata": {},
   "outputs": [],
   "source": [
    "from nltk.chat.util import Chat, reflections"
   ]
  },
  {
   "cell_type": "code",
   "execution_count": 9,
   "id": "55a42630-7ace-4622-b8bb-17dedbc57881",
   "metadata": {},
   "outputs": [],
   "source": [
    "data = [\n",
    "    [r\"(.*hi|.*hello|.*hey)\",[\"Hello\"]],\n",
    "    [r\"(.*name)\", [\"My name is Oluwaseun\"]],\n",
    "    [r\"(.*age|.*old)\", [\"I'm 23 years old\"]],\n",
    "    [r\"(.*language)\",[\"I speak English and Yoruba\"]],\n",
    "    [r\"(.*sports)\",[\"I like watching football and Basketball\"]],\n",
    "    [r\"(.*hobbies )\",[\"I like taking walks and listening to music\"]],\n",
    "    [r\"(.*work)\", [\"Currently learning Data science\"]],\n",
    "    [r\"(.*skills)\",[\"I'm average in python, decent in SQL\"]],\n",
    "    [r\"(.*expertise)\",[\"I would love to concentrate on machine learning\"]],\n",
    "    [r\"(.*food)\", [\"My favorite food is anything meat\"]],\n",
    "    [r\"(.*pets|.*pet)\", [\"I do not have any pets\"]],\n",
    "    [r\"(.*goals)\",[\"My goal is to make models that solve world problems\"]]\n",
    "]"
   ]
  },
  {
   "cell_type": "code",
   "execution_count": 10,
   "id": "6527a9e6-132f-496b-a8b0-a66e2908061e",
   "metadata": {},
   "outputs": [
    {
     "name": "stdout",
     "output_type": "stream",
     "text": [
      "Hello! I'm Sampy's Chatbot. Type 'exit' to end conversation.\n"
     ]
    },
    {
     "name": "stdin",
     "output_type": "stream",
     "text": [
      "You:  exit\n"
     ]
    },
    {
     "name": "stdout",
     "output_type": "stream",
     "text": [
      "Chatbot: Goodbye!\n"
     ]
    }
   ],
   "source": [
    "chatbot = Chat(data, reflections)\n",
    "\n",
    "print(\"Hello! I'm Sampy's Chatbot. Type 'exit' to end conversation.\")\n",
    "while True:\n",
    "    user_input = input('You: ')\n",
    "    if user_input.lower() == 'exit':\n",
    "        print(\"Chatbot: Goodbye!\")\n",
    "        break\n",
    "    else:\n",
    "        response = chatbot.respond(user_input)\n",
    "        if response == None:\n",
    "            print(\"Chatbot: I could not understand you, kindly rephrase your statement. \")\n",
    "        else:\n",
    "            print(\"Chatbot:\", response)"
   ]
  },
  {
   "cell_type": "code",
   "execution_count": null,
   "id": "5f5ee3b1-38b4-4e36-8d6a-f17752c53263",
   "metadata": {},
   "outputs": [],
   "source": []
  }
 ],
 "metadata": {
  "kernelspec": {
   "display_name": "Python 3 (ipykernel)",
   "language": "python",
   "name": "python3"
  },
  "language_info": {
   "codemirror_mode": {
    "name": "ipython",
    "version": 3
   },
   "file_extension": ".py",
   "mimetype": "text/x-python",
   "name": "python",
   "nbconvert_exporter": "python",
   "pygments_lexer": "ipython3",
   "version": "3.12.3"
  }
 },
 "nbformat": 4,
 "nbformat_minor": 5
}
